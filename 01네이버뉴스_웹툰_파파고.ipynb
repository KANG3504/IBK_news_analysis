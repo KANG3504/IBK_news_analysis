{
 "cells": [
  {
   "cell_type": "code",
   "execution_count": 3,
   "id": "35f43f39-c2db-4e58-a951-5c1cacac550e",
   "metadata": {},
   "outputs": [
    {
     "name": "stdout",
     "output_type": "stream",
     "text": [
      "Name: beautifulsoup4\n",
      "Version: 4.9.3\n",
      "Summary: Screen-scraping library\n",
      "Home-page: http://www.crummy.com/software/BeautifulSoup/bs4/\n",
      "Author: Leonard Richardson\n",
      "Author-email: leonardr@segfault.org\n",
      "License: MIT\n",
      "Location: c:\\users\\ibk\\anaconda3\\lib\\site-packages\n",
      "Requires: soupsieve\n",
      "Required-by: conda-build\n"
     ]
    }
   ],
   "source": [
    "!pip show beautifulsoup4"
   ]
  },
  {
   "cell_type": "markdown",
   "id": "13b58f63-d02e-49c7-920a-73b7a648ec59",
   "metadata": {},
   "source": [
    "### 네이버 뉴스 제목 가져오기\n",
    "* user-agent 헤더 값을 반드시 설정"
   ]
  },
  {
   "cell_type": "code",
   "execution_count": 35,
   "id": "3830d0fe-6b5d-41ed-96c9-dedab3defc94",
   "metadata": {},
   "outputs": [],
   "source": [
    "import requests as re\n",
    "from bs4 import BeautifulSoup as bs\n",
    "from urllib.parse import urljoin"
   ]
  },
  {
   "cell_type": "code",
   "execution_count": 11,
   "id": "a8869a69-17d8-489e-8b49-f97a6d9e429e",
   "metadata": {},
   "outputs": [
    {
     "name": "stdout",
     "output_type": "stream",
     "text": [
      "200\n",
      "True\n"
     ]
    }
   ],
   "source": [
    "url = 'https://news.naver.com/'\n",
    "req_header = {'user-agent': 'Mozilla/5.0 (Windows NT 10.0; Win64; x64) AppleWebKit/537.36 (KHTML, like Gecko) Chrome/95.0.4638.69 Safari/537.36'}\n",
    "res = re.get(url, headers=req_header)\n",
    "print(res.status_code)\n",
    "print(res.ok)"
   ]
  },
  {
   "cell_type": "code",
   "execution_count": 15,
   "id": "7643e35d-63a5-4df5-b80a-7a7ab92843cd",
   "metadata": {},
   "outputs": [],
   "source": [
    "if res.ok:\n",
    "    #소스보기 했을 때 보여지는 text\n",
    "    html = res.text\n",
    "    #BeautifulSoup 객체 생성\n",
    "    soup = bs(html, 'html.parser')\n",
    "    #print(soup)"
   ]
  },
  {
   "cell_type": "code",
   "execution_count": 22,
   "id": "b1564e60-55a2-4bf5-8e88-f7f93617e98e",
   "metadata": {},
   "outputs": [
    {
     "name": "stdout",
     "output_type": "stream",
     "text": [
      "199\n"
     ]
    }
   ],
   "source": [
    "print(len(soup.select(\"a[href*='read.naver']\" )))\n",
    "atag_list = soup.select(\"a[href*='read.naver']\")"
   ]
  },
  {
   "cell_type": "code",
   "execution_count": 24,
   "id": "f1b4392c-7a01-49ce-8a61-97e8e2ccce1e",
   "metadata": {},
   "outputs": [],
   "source": [
    "#print(type(atag_list))\n",
    "#print(atag_list)"
   ]
  },
  {
   "cell_type": "code",
   "execution_count": 37,
   "id": "85a26791-c251-45fb-8460-88e5beae8448",
   "metadata": {},
   "outputs": [
    {
     "name": "stdout",
     "output_type": "stream",
     "text": [
      "1 -  “산업용 요소수 차량용 전환 여부, 추가 실험 진… - https://news.naver.com/main/read.naver?mode=LSD&mid=shm&sid1=105&oid=056&aid=0011157630\n",
      "2 -  이철희 청 정무수석 \"문 대통령 퇴임 때 '문전박… - https://news.naver.com/main/read.naver?mode=LSD&mid=shm&sid1=100&oid=055&aid=0000933715\n",
      "3 -  윤호중 “올해 세수 초과액 50조원… 기재부 세수 추계에 의도 있다면 국정조사해야” - https://news.naver.com/main/read.naver?mode=LSD&mid=shm&sid1=100&oid=023&aid=0003653341\n",
      "4 -  계열사 일감 얼마나 몰아줬나…대기업 내부거래 현황 공개 - https://news.naver.com/main/read.naver?mode=LSD&mid=shm&sid1=101&oid=243&aid=0000018558\n",
      "5 -  檢, 돌연 잠적한 '도이치 주가조작' 핵심 인물 이정필 붙잡아 - https://news.naver.com/main/read.naver?mode=LSD&mid=shm&sid1=102&oid=008&aid=0004671061\n",
      "6 -  이재명 지사 시절 마지막 결재 '일산대교 무료통행' 결국 물거품 - https://news.naver.com/main/read.naver?mode=LSD&mid=shm&sid1=102&oid=119&aid=0002548497\n",
      "7 -  김정은 35일만 공개활동…삼지연 공사 최종 점검[데일리 북한] - https://news.naver.com/main/read.naver?mode=LSD&mid=shm&sid1=102&oid=421&aid=0005726425\n",
      "9 -  오세훈 \"답변 시간 구걸 하지 않겠다\" 시의회에서 민주당 의원들과 설전 - https://news.naver.com/main/read.naver?mode=LSD&mid=shm&sid1=100&oid=011&aid=0003985869\n",
      "10 -  공군 女하사 사망에 말바꾸는 軍…정치권 “책임자 처단” - https://news.naver.com/main/read.naver?mode=LSD&mid=shm&sid1=100&oid=023&aid=0003653376\n",
      "11 -  文 '사람이 먼저다' 정철, 이재명 슬로건 맡아…\"李와 尹은 품질에서 큰 차이\" - https://news.naver.com/main/read.naver?mode=LSD&mid=shm&sid1=100&oid=088&aid=0000731199\n",
      "12 -  초선들이 총대 멘 與 선대위 쇄신론 '터질 게 터졌다' - https://news.naver.com/main/read.naver?mode=LSD&mid=shm&sid1=100&oid=119&aid=0002548536\n",
      "13 -  조원진, \"운동권 청년, 정권 비판의식 가져야\" - https://news.naver.com/main/read.naver?mode=LSD&mid=shm&sid1=100&oid=030&aid=0002982255\n",
      "14 -  “논객의 일방적 비판”…‘진중권 이재명 비난’ 인용보도에 ‘주의’ 조치 - https://news.naver.com/main/read.naver?mode=LSD&mid=shm&sid1=100&oid=081&aid=0003230391\n",
      "16 -  국민MC 유재석도 카카오엔터 주주...유희열과 유증 참여 - https://news.naver.com/main/read.naver?mode=LSD&mid=shm&sid1=101&oid=014&aid=0004740519\n",
      "17 -  상·하위 10% 집값 격차 47배... 다주택자 비중 처음으로 감소 - https://news.naver.com/main/read.naver?mode=LSD&mid=shm&sid1=101&oid=366&aid=0000774205\n",
      "18 -  \"집값도 전셋값도 너무 비싸\"…6년간 매년 57만명 서울 떠났다 - https://news.naver.com/main/read.naver?mode=LSD&mid=shm&sid1=101&oid=421&aid=0005727104\n",
      "19 -  코스피, 장중 '3000선' 붕괴...개인·기관 매도세 - https://news.naver.com/main/read.naver?mode=LSD&mid=shm&sid1=101&oid=277&aid=0005000359\n",
      "20 -  보릿고개 저축은행...법정 상한금리 인하에 신용대출 축소 이중고 - https://news.naver.com/main/read.naver?mode=LSD&mid=shm&sid1=101&oid=030&aid=0002982252\n",
      "21 -  창릉신도시 개발 호재 속 ‘화정역 동문 디 이스트’, 분양 - https://news.naver.com/main/read.naver?mode=LSD&mid=shm&sid1=101&oid=011&aid=0003985863\n",
      "23 -  [마부작침] 머스크 재산 2%면 기아 문제를 해결할 수 있을까? - https://news.naver.com/main/read.naver?mode=LSD&mid=shm&sid1=102&oid=055&aid=0000933750\n",
      "24 -  \"이재명 소시오패스\" 원희룡 부인 발언…경찰 수사 착수 - https://news.naver.com/main/read.naver?mode=LSD&mid=shm&sid1=102&oid=003&aid=0010835309\n",
      "25 -  “강용석, 문제의 동영상 안지우면 법원 간다” 김부선 뿔난 영상은? - https://news.naver.com/main/read.naver?mode=LSD&mid=shm&sid1=102&oid=081&aid=0003230394\n",
      "26 -  일본 입국제한 해제, 영진전문대 졸업자 89명 내달 출국 - https://news.naver.com/main/read.naver?mode=LSD&mid=shm&sid1=102&oid=030&aid=0002982258\n",
      "27 -  고수익 알바 광고, 알고 보니 보이스피싱 범죄 - https://news.naver.com/main/read.naver?mode=LSD&mid=shm&sid1=102&oid=088&aid=0000731200\n",
      "28 -  [단독]위례·대장동 개발 사전 포석? 2011년 성남시설관리공단 ‘몸집 키우기’ 나선 유동규 - https://news.naver.com/main/read.naver?mode=LSD&mid=shm&sid1=102&oid=032&aid=0003110467\n",
      "30 -  車업계, 반도체 부족에 출고 늦어지자 ‘맞춤형 생산’ 강화 - https://news.naver.com/main/read.naver?mode=LSD&mid=shm&sid1=103&oid=366&aid=0000774207\n",
      "31 -  [강석기의 과학카페] 음식은 암 치료에 얼마나 영향을 미칠까 - https://news.naver.com/main/read.naver?mode=LSD&mid=shm&sid1=103&oid=584&aid=0000016747\n",
      "32 -  오징어게임 흠집내던 日, 알고보니 글로벌 최대 '효자 시장' - https://news.naver.com/main/read.naver?mode=LSD&mid=shm&sid1=103&oid=015&aid=0004629073\n",
      "33 -  맞고, 먹고, 이제는 붙인다…패치형 코로나 T세포 백신 나올까 - https://news.naver.com/main/read.naver?mode=LSD&mid=shm&sid1=103&oid=584&aid=0000016745\n",
      "34 -  [날씨] 쾌청한 가을, 15도 안팎…공기질 무난 - https://news.naver.com/main/read.naver?mode=LSD&mid=shm&sid1=103&oid=422&aid=0000514229\n",
      "35 -  \"2030대 부인암 환자, 임신·출산 포기하지 마세요\" - https://news.naver.com/main/read.naver?mode=LSD&mid=shm&sid1=103&oid=346&aid=0000045934\n",
      "37 -  [줌인] 동아시아 ‘힘의 균형’ 흔드는 중국의 군사굴기 - https://news.naver.com/main/read.naver?mode=LSD&mid=shm&sid1=104&oid=366&aid=0000774208\n",
      "38 -  [10보]바이든·시진핑 194분 회의 종료...내용 공개할 듯 - https://news.naver.com/main/read.naver?mode=LSD&mid=shm&sid1=104&oid=014&aid=0004740521\n",
      "39 -  “밤에도 소처럼 일해라?” 中 IT기업 야근 강제 표어 부착 논란 - https://news.naver.com/main/read.naver?mode=LSD&mid=shm&sid1=104&oid=081&aid=0003230388\n",
      "40 -  바이든 활짝 웃고 시진핑 고개만 끄덕‥시작부터 긴장감 - https://news.naver.com/main/read.naver?mode=LSD&mid=shm&sid1=104&oid=214&aid=0001160268\n",
      "41 -  러시아 요격미사일에 위성 산산조각…미·영 \"무책임\" - https://news.naver.com/main/read.naver?mode=LSD&mid=shm&sid1=104&oid=422&aid=0000514226\n",
      "42 -  [올댓차이나] 중국전신, 미국 면허취소 가처분 신청 제기 - https://news.naver.com/main/read.naver?mode=LSD&mid=shm&sid1=104&oid=003&aid=0010835187\n",
      "44 -  거실은 장악 못 하는 애플…스마트홈 이끈 수장 사임 - https://news.naver.com/main/read.naver?mode=LSD&mid=shm&sid1=105&oid=293&aid=0000036968\n",
      "45 -  “수수료 제로”…카카오, 카톡 내 새로운 오픈마켓 만든다 - https://news.naver.com/main/read.naver?mode=LSD&mid=shm&sid1=105&oid=138&aid=0002113636\n",
      "46 -  한국 찾은 에픽게임즈 대표 “애플·구글, 앱마켓 독점 통해 메타버스까지 지배 야욕” - https://news.naver.com/main/read.naver?mode=LSD&mid=shm&sid1=105&oid=366&aid=0000774196\n",
      "47 -  카카오엔터프라이즈 \"AI 비서 캐스퍼, 5년 내 자비스처럼 진화\" - https://news.naver.com/main/read.naver?mode=LSD&mid=shm&sid1=105&oid=092&aid=0002239303\n",
      "48 -  NHN두레이 '홀로서기' 시작…\"내년 매출 2배로\" - https://news.naver.com/main/read.naver?mode=LSD&mid=shm&sid1=105&oid=018&aid=0005087227\n",
      "49 -  '안테나' 판 유희열, 70억 카카오엔터에 베팅…'절친' 유재석도 동참 - https://news.naver.com/main/read.naver?mode=LSD&mid=shm&sid1=105&oid=421&aid=0005727053\n",
      "51 -  \"파주 요양병원, 윤석열 장모가 주도한 것 맞다\" - https://news.naver.com/main/ranking/read.naver?mode=LSD&mid=shm&sid1=001&oid=047&aid=0002332869&rankingType=RANKING\n",
      "53 -  \"사전 예약만 1조5000억원 들어왔다\"…테슬라 잡을 무서 … - https://news.naver.com/main/ranking/read.naver?mode=LSD&mid=shm&sid1=001&oid=009&aid=0004879655&rankingType=RANKING\n",
      "55 -  “불법 자막보다 못한 수준” 한국 상륙 디즈니 ‘불만 폭발 … - https://news.naver.com/main/ranking/read.naver?mode=LSD&mid=shm&sid1=001&oid=016&aid=0001912945&rankingType=RANKING\n",
      "57 -  고민정, '경희대 분교' 논란에 \"평가절하 아냐…'을들의  … - https://news.naver.com/main/ranking/read.naver?mode=LSD&mid=shm&sid1=001&oid=031&aid=0000636321&rankingType=RANKING\n",
      "59 -  이재명, 진중권에 \"보수논객\"…이준석 \"하다하다 이제…웃기 … - https://news.naver.com/main/ranking/read.naver?mode=LSD&mid=shm&sid1=001&oid=448&aid=0000344070&rankingType=RANKING\n",
      "61 -  이재명 측, 올블랙 외출 사진 \"후보 배우자 아냐…수행원  … - https://news.naver.com/main/ranking/read.naver?mode=LSD&mid=shm&sid1=001&oid=055&aid=0000933719&rankingType=RANKING\n",
      "63 -  ‘임금명세서’ 무조건 줘야 한다…내 월급 꼼꼼히 따져보세요 - https://news.naver.com/main/ranking/read.naver?mode=LSD&mid=shm&sid1=001&oid=028&aid=0002567992&rankingType=RANKING\n",
      "65 -  식당 쑥대밭 만든 중학생 10명…담배 나무라자 몰려왔다 - https://news.naver.com/main/ranking/read.naver?mode=LSD&mid=shm&sid1=001&oid=437&aid=0000280922&rankingType=RANKING\n",
      "67 -  국민연금 월 200만원 이상 수령자, 2018년 10명→올 … - https://news.naver.com/main/ranking/read.naver?mode=LSD&mid=shm&sid1=001&oid=056&aid=0011157473&rankingType=RANKING\n",
      "68 -  동영상기사 - https://news.naver.com/main/ranking/read.naver?mode=LSD&mid=shm&sid1=001&oid=422&aid=0000514203&rankingType=RANKING\n",
      "69 -  [단독] 공수처, 대검 압수영장 윤석열 수사 4건 모두 적 … - https://news.naver.com/main/ranking/read.naver?mode=LSD&mid=shm&sid1=001&oid=422&aid=0000514203&rankingType=RANKING\n",
      "71 -  \"여가부 해체\" 전효성 낯뜨거운 사진 띄운 신남성연대 논란 - https://news.naver.com/main/ranking/read.naver?mode=LSD&mid=shm&sid1=001&oid=011&aid=0003985675&rankingType=RANKING\n",
      "73 -  \"커피값 300원 올렸더니 손님이…\" 동네 커피숍의 '호소 … - https://news.naver.com/main/ranking/read.naver?mode=LSD&mid=shm&sid1=001&oid=015&aid=0004628871&rankingType=RANKING\n",
      "75 -  이준석 \"진중권, 이재명에게 '보수논객'으로 찍혀…그에게  … - https://news.naver.com/main/ranking/read.naver?mode=LSD&mid=shm&sid1=001&oid=421&aid=0005726250&rankingType=RANKING\n",
      "77 -  \"강용석, 영상 안지우면 법원 간다\" 김부선 뿔난 영상 뭐 … - https://news.naver.com/main/ranking/read.naver?mode=LSD&mid=shm&sid1=001&oid=025&aid=0003151074&rankingType=RANKING\n",
      "79 -  \"우리가 명성황후 시해‥생각보다 간단\" 일본 외교관 추정  … - https://news.naver.com/main/ranking/read.naver?mode=LSD&mid=shm&sid1=001&oid=214&aid=0001160241&rankingType=RANKING\n",
      "81 -  이해식 배우자실장 \"올블랙 외출 사진, 김혜경 아냐\"… 경 … - https://news.naver.com/main/ranking/read.naver?mode=LSD&mid=shm&sid1=001&oid=082&aid=0001127676&rankingType=RANKING\n",
      "83 -  독일, 걷잡을 수 없이 퍼지는 코로나19…\"유례없는 속도\" - https://news.naver.com/main/ranking/read.naver?mode=LSD&mid=shm&sid1=001&oid=277&aid=0004999956&rankingType=RANKING\n",
      "85 -  배달까지 40분...퉁퉁 불어버린 면요리, 고객이 남긴 ‘ … - https://news.naver.com/main/ranking/read.naver?mode=LSD&mid=shm&sid1=001&oid=081&aid=0003230188&rankingType=RANKING\n",
      "87 -  \"왕비 시해…생각보다 간단\" 을미사변 日외교관 추정 편지  … - https://news.naver.com/main/ranking/read.naver?mode=LSD&mid=shm&sid1=001&oid=001&aid=0012795740&rankingType=RANKING\n",
      "89 -  1시간30분을 10분으로 단축···'국내 최장' 보령해저터 … - https://news.naver.com/main/ranking/read.naver?mode=LSD&mid=shm&sid1=001&oid=032&aid=0003110445&rankingType=RANKING\n",
      "91 -  이재명 측 “검은 망토女 김혜경 아냐…수행원” - https://news.naver.com/main/ranking/read.naver?mode=LSD&mid=shm&sid1=001&oid=020&aid=0003393896&rankingType=RANKING\n",
      "93 -  '경기 안방'도 놓치는 이재명... 윤석열과 지지율 자꾸  … - https://news.naver.com/main/ranking/read.naver?mode=LSD&mid=shm&sid1=001&oid=469&aid=0000641349&rankingType=RANKING\n",
      "95 -  “이준석 내치면 대선 진다”…홍준표의 단호한 답변 - https://news.naver.com/main/ranking/read.naver?mode=LSD&mid=shm&sid1=001&oid=023&aid=0003653357&rankingType=RANKING\n",
      "97 -  윤석열, 원희룡·나경원 잇따라 만나…\"내일 선대위 발표는  … - https://news.naver.com/main/ranking/read.naver?mode=LSD&mid=shm&sid1=001&oid=003&aid=0010835143&rankingType=RANKING\n",
      "99 -  \"아빠가 꽉 안아줬어요\"…경비행기 추락 11세 소녀 생존 - https://news.naver.com/main/ranking/read.naver?mode=LSD&mid=shm&sid1=001&oid=215&aid=0000997253&rankingType=RANKING\n",
      "101 -  스스로 '자연인' 선언한 곽상도…\"지나가는 개가 웃겠다\"[ … - https://news.naver.com/main/ranking/read.naver?mode=LSD&mid=shm&sid1=001&oid=079&aid=0003575370&rankingType=RANKING\n",
      "102 -  동영상기사 - https://news.naver.com/main/ranking/read.naver?mode=LSD&mid=shm&sid1=001&oid=052&aid=0001665688&rankingType=RANKING\n",
      "103 -  대출 급증에 은행은 '이자파티'...3분기 이자이익 1.3 … - https://news.naver.com/main/ranking/read.naver?mode=LSD&mid=shm&sid1=001&oid=052&aid=0001665688&rankingType=RANKING\n",
      "105 -  ‘홍남기 저격’ 이재명에 힘싣는 與...사과 요구에 ‘국정 … - https://news.naver.com/main/ranking/read.naver?mode=LSD&mid=shm&sid1=001&oid=366&aid=0000774179&rankingType=RANKING\n",
      "107 -  尹, 권성동 사무총장 확정…‘김종인 원톱 선대위’ 구성 막 … - https://news.naver.com/main/ranking/read.naver?mode=LSD&mid=shm&sid1=001&oid=021&aid=0002492581&rankingType=RANKING\n",
      "109 -  '김혜경 낙상사고' 이후 계속된 잡음…'외출사진 진위 논란 … - https://news.naver.com/main/ranking/read.naver?mode=LSD&mid=shm&sid1=001&oid=088&aid=0000731186&rankingType=RANKING\n",
      "111 -  '文 경호원' 최영재 \"아랍 왕족에 '백지수표' 제안받아\" - https://news.naver.com/main/ranking/read.naver?mode=LSD&mid=shm&sid1=001&oid=057&aid=0001621706&rankingType=RANKING\n",
      "113 -  [속보]산업용 요소수 차량용으로 전환 사용 불가…추가실험  … - https://news.naver.com/main/ranking/read.naver?mode=LSD&mid=shm&sid1=001&oid=087&aid=0000868522&rankingType=RANKING\n",
      "115 -  [단독]국민MC 유재석, 카카오엔터 주주됐다..\"유희열과  … - https://news.naver.com/main/ranking/read.naver?mode=LSD&mid=shm&sid1=001&oid=008&aid=0004670950&rankingType=RANKING\n",
      "117 -  “떨어진 옷장에 하반신 마비된 아내…5개월째 사과 없어” - https://news.naver.com/main/ranking/read.naver?mode=LSD&mid=shm&sid1=001&oid=005&aid=0001484609&rankingType=RANKING\n",
      "119 -  민주 “기재부 국정감사”…靑 “홍남기보다 야당 설득부터” - https://news.naver.com/main/ranking/read.naver?mode=LSD&mid=shm&sid1=001&oid=449&aid=0000217924&rankingType=RANKING\n",
      "121 -  [르포]\"연식 6년이하 중고차 매물 끊겨, 고객 뚝\"…매장 … - https://news.naver.com/main/ranking/read.naver?mode=LSD&mid=shm&sid1=001&oid=018&aid=0005086819&rankingType=RANKING\n",
      "123 -  배현진 “李 부인 낙상사고 경위서 ‘산책하다가’ 빠져” V … - https://news.naver.com/main/ranking/read.naver?mode=LSD&mid=shm&sid1=001&oid=022&aid=0003638506&rankingType=RANKING\n",
      "125 -  손석희가 밝힌 진짜 실현될 뻔했던 JTBC '평양 생방송' … - https://news.naver.com/main/ranking/read.naver?mode=LSD&mid=shm&sid1=001&oid=006&aid=0000110511&rankingType=RANKING\n",
      "127 -  '신음 논란' 여성 BJ \"남성 팬과 성관계 안해.. 조작 … - https://news.naver.com/main/ranking/read.naver?mode=LSD&mid=shm&sid1=001&oid=014&aid=0004740167&rankingType=RANKING\n",
      "129 -  \"집값 떨어진다던 당신 말 믿었다가 벼락거지 됐잖아\"…부동 … - https://news.naver.com/main/ranking/read.naver?mode=LSD&mid=shm&sid1=001&oid=029&aid=0002706259&rankingType=RANKING\n",
      "131 -  대선 승자는 이미 결정됐다...단, 이재명도 윤석열도 아니 … - https://news.naver.com/main/ranking/read.naver?mode=LSD&mid=shm&sid1=001&oid=002&aid=0002219051&rankingType=RANKING\n",
      "133 -  삼성 미 반도체 2공장, 오스틴 신청서 철회...테일러로  … - https://news.naver.com/main/ranking/read.naver?mode=LSD&mid=shm&sid1=001&oid=030&aid=0002982227&rankingType=RANKING\n",
      "134 -  동영상기사 - https://news.naver.com/main/ranking/read.naver?mode=LSD&mid=shm&sid1=001&oid=374&aid=0000264628&rankingType=RANKING\n",
      "135 -  오후 2시부터 요소수 재고 공개…산업용 전환 사용 추가 기 … - https://news.naver.com/main/ranking/read.naver?mode=LSD&mid=shm&sid1=001&oid=374&aid=0000264628&rankingType=RANKING\n",
      "137 -  페이스북, 소리소문없이 '메타버스 기업' 사냥 - https://news.naver.com/main/ranking/read.naver?mode=LSD&mid=shm&sid1=001&oid=092&aid=0002239299&rankingType=RANKING\n",
      "139 -  \"택시 기사가 휴대폰 찾아 준 사례금으로 20만원을 요구합 … - https://news.naver.com/main/ranking/read.naver?mode=LSD&mid=shm&sid1=001&oid=119&aid=0002548338&rankingType=RANKING\n",
      "141 -  중앙일보 온라인 회원 20만명... 홈피 개편 2개월만 - https://news.naver.com/main/ranking/read.naver?mode=LSD&mid=shm&sid1=001&oid=127&aid=0000031807&rankingType=RANKING\n",
      "143 -  ‘재난지원금’→‘방역지원금’ 이름 바꿔 강행…정부 반대에도 … - https://news.naver.com/main/ranking/read.naver?mode=LSD&mid=shm&sid1=001&oid=024&aid=0000071546&rankingType=RANKING\n",
      "145 -  [NFT 감별사] ‘에스파’로 성공한 SM의 메타버스 실험 … - https://news.naver.com/main/ranking/read.naver?mode=LSD&mid=shm&sid1=001&oid=138&aid=0002113627&rankingType=RANKING\n",
      "147 -  몸속 염증 없애는 생활습관 4 - https://news.naver.com/main/ranking/read.naver?mode=LSD&mid=shm&sid1=001&oid=296&aid=0000052725&rankingType=RANKING\n",
      "149 -  새로운 넷플릭스 시청법…쇼파에 누워 \"알렉사, 뭐 좀 틀어 … - https://news.naver.com/main/ranking/read.naver?mode=LSD&mid=shm&sid1=001&oid=293&aid=0000036966&rankingType=RANKING\n",
      "151 -  [CEO워치]'저격수에서 표적된' 김헌동, 험로는 지금부터 - https://news.naver.com/main/ranking/read.naver?mode=LSD&mid=shm&sid1=001&oid=648&aid=0000004827&rankingType=RANKING\n",
      "153 -  김동연 “李는 경제 기본도 모르고, 尹은 과거만 재단하던  … - https://news.naver.com/main/ranking/read.naver?mode=LSD&mid=shm&sid1=001&oid=053&aid=0000029981&rankingType=RANKING\n",
      "155 -  Vaccines from abroad don't cut i … - https://news.naver.com/main/ranking/read.naver?mode=LSD&mid=shm&sid1=001&oid=640&aid=0000018204&rankingType=RANKING\n",
      "157 -  맞고, 먹고, 이제는 붙인다…패치형 코로나 T세포 백신 나 … - https://news.naver.com/main/ranking/read.naver?mode=LSD&mid=shm&sid1=001&oid=584&aid=0000016745&rankingType=RANKING\n",
      "159 -  '문재인 복심' 양정철, 이재명 구원투수로 등판할까 - https://news.naver.com/main/ranking/read.naver?mode=LSD&mid=shm&sid1=001&oid=586&aid=0000031261&rankingType=RANKING\n",
      "161 -  김혜수가 ‘명품 직송’ 외치던 ‘발란’ 광고…프라다 광고  … - https://news.naver.com/main/ranking/read.naver?mode=LSD&mid=shm&sid1=001&oid=243&aid=0000018576&rankingType=RANKING\n",
      "163 -  [강혜미의 스타트업 카페](19)프리랜서는 프리랜서로 대우 … - https://news.naver.com/main/ranking/read.naver?mode=LSD&mid=shm&sid1=001&oid=033&aid=0000043301&rankingType=RANKING\n",
      "165 -  [심상정 인터뷰] “차악을 고민하지 말고 최선을 선택하시라 … - https://news.naver.com/main/ranking/read.naver?mode=LSD&mid=shm&sid1=001&oid=308&aid=0000029752&rankingType=RANKING\n",
      "167 -  “끝없는 정치적 싸움, 많이 변했다” - https://news.naver.com/main/ranking/read.naver?mode=LSD&mid=shm&sid1=001&oid=036&aid=0000045664&rankingType=RANKING\n",
      "169 -  뱃살 빼주는 호르몬, '이 음식' 먹으면 잘 나와 - https://news.naver.com/main/ranking/read.naver?mode=LSD&mid=shm&sid1=001&oid=346&aid=0000045910&rankingType=RANKING\n",
      "171 -  [Feature] From bugs to delicacie … - https://news.naver.com/main/ranking/read.naver?mode=LSD&mid=shm&sid1=001&oid=044&aid=0000232281&rankingType=RANKING\n",
      "173 -  더는 ‘요가복 샤넬’이라 부르지 마라! - https://news.naver.com/main/ranking/read.naver?mode=LSD&mid=shm&sid1=001&oid=037&aid=0000029971&rankingType=RANKING\n",
      "175 -  대장동 불법 수익으로 기업 인수... 주가조작 시도 정황까 … - https://news.naver.com/main/ranking/read.naver?mode=LSD&mid=shm&sid1=001&oid=607&aid=0000000944&rankingType=RANKING\n",
      "177 -  文대통령, 임기 말 지지율 고공행진…靑 이철희 \"문재인 효 … - https://news.naver.com/main/ranking/read.naver?mode=LSD&mid=shm&sid1=001&oid=629&aid=0000116319&rankingType=RANKING\n",
      "179 -  “집값 오르는 소리 들린다”…신흥 주거 타운으로 거듭나는  … - https://news.naver.com/main/ranking/read.naver?mode=LSD&mid=shm&sid1=001&oid=050&aid=0000059035&rankingType=RANKING\n",
      "181 -  [우그그] 금광석 1톤에 금 5g, 폐휴대전화는 400g  … - https://news.naver.com/main/ranking/read.naver?mode=LSD&mid=shm&sid1=001&oid=262&aid=0000014954&rankingType=RANKING\n",
      "183 -  이재명 후보 부인 외출 사진 놓고… 민주당 \"아니다\" vs … - https://news.naver.com/main/ranking/read.naver?mode=LSD&mid=shm&sid1=001&oid=417&aid=0000754822&rankingType=RANKING\n",
      "185 -  김장훈‧영탁 출연... 22일 '강남가족콘서트' … - https://news.naver.com/main/ranking/read.naver?mode=LSD&mid=shm&sid1=001&oid=310&aid=0000091999&rankingType=RANKING\n",
      "187 -  여자들의 해방과 욕망을 찾아서: 섹스굿즈에서 한류까지 - https://news.naver.com/main/ranking/read.naver?mode=LSD&mid=shm&sid1=001&oid=007&aid=0000006942&rankingType=RANKING\n",
      "189 -  [Man&Wall] 경남의 자연암장 메카 의령 큰덤바위 - https://news.naver.com/main/ranking/read.naver?mode=LSD&mid=shm&sid1=001&oid=094&aid=0000009542&rankingType=RANKING\n",
      "191 -  여자들의 해방과 욕망을 찾아서: 섹스굿즈에서 한류까지 - https://news.naver.com/main/ranking/read.naver?mode=LSD&mid=shm&sid1=001&oid=007&aid=0000006942&rankingType=RANKING\n",
      "193 -  [Man&Wall] 경남의 자연암장 메카 의령 큰덤바위 - https://news.naver.com/main/ranking/read.naver?mode=LSD&mid=shm&sid1=001&oid=094&aid=0000009542&rankingType=RANKING\n",
      "195 -  이재명 '기본소득토지세 반대는 바보짓'에 국힘 \"국민 분열 … - https://news.naver.com/main/ranking/read.naver?mode=LSD&mid=shm&sid1=001&oid=123&aid=0002259718&rankingType=RANKING\n",
      "197 -  2024 올림픽 정식 종목 된 브레이킹…세상에 없던 역동적 … - https://news.naver.com/main/ranking/read.naver?mode=LSD&mid=shm&sid1=001&oid=353&aid=0000040917&rankingType=RANKING\n",
      "199 -  모유 아닌 가슴 분비물이 나온다? 이런 경우 ‘유방암 위험 … - https://news.naver.com/main/ranking/read.naver?mode=LSD&mid=shm&sid1=001&oid=145&aid=0000015592&rankingType=RANKING\n"
     ]
    }
   ],
   "source": [
    "for idx, atag in enumerate(atag_list, 1):\n",
    "    #print(atag)\n",
    "    #print()\n",
    "    if atag:\n",
    "        title = atag.text.strip()\n",
    "        href = urljoin(url, atag['href'])\n",
    "        if title:\n",
    "            print(f'{idx} -  {title} - {href}')"
   ]
  },
  {
   "cell_type": "code",
   "execution_count": null,
   "id": "681d4e07-7022-4360-9f3c-27633ad0e92c",
   "metadata": {},
   "outputs": [],
   "source": []
  }
 ],
 "metadata": {
  "kernelspec": {
   "display_name": "Python 3",
   "language": "python",
   "name": "python3"
  },
  "language_info": {
   "codemirror_mode": {
    "name": "ipython",
    "version": 3
   },
   "file_extension": ".py",
   "mimetype": "text/x-python",
   "name": "python",
   "nbconvert_exporter": "python",
   "pygments_lexer": "ipython3",
   "version": "3.8.8"
  }
 },
 "nbformat": 4,
 "nbformat_minor": 5
}
